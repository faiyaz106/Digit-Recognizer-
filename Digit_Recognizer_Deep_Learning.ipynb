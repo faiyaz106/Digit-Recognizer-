{
 "cells": [
  {
   "cell_type": "markdown",
   "id": "8bb76751",
   "metadata": {},
   "source": [
    "#### MNIST digit classification by using Deep Learnig Methods.\n",
    "     Python Libraries used: Scikit Learn, Tensorflow, Pandas, Numpy, Matplotlib"
   ]
  },
  {
   "cell_type": "markdown",
   "id": "c9e24cd0",
   "metadata": {},
   "source": [
    "#### Steps:\n",
    "     1. Import Libraries \n",
    "     2. Exploratory Data Analysis \n",
    "     3. Feature Engineering (Data Normalization)\n",
    "     4. Model Training\n",
    "       4.1 Artificial Neural Network \n",
    "       4.2 Convolutional Neural Network\n",
    "     5. Model Evaluation : F-1 Score,Recall, Precision and Recall"
   ]
  },
  {
   "cell_type": "markdown",
   "id": "7c4dfeb7",
   "metadata": {},
   "source": [
    "### 1. Importing all the required libraries"
   ]
  },
  {
   "cell_type": "code",
   "execution_count": 23,
   "id": "6c50ce95",
   "metadata": {},
   "outputs": [],
   "source": [
    "import tensorflow as tf\n",
    "from tensorflow.keras import datasets,layers,models\n",
    "import matplotlib.pyplot as plt\n",
    "import numpy as np\n",
    "import pandas as pd\n",
    "import time\n",
    "import seaborn as sns\n",
    "from sklearn.model_selection import StratifiedShuffleSplit\n",
    "from sklearn.metrics import confusion_matrix,classification_report, ConfusionMatrixDisplay"
   ]
  },
  {
   "cell_type": "markdown",
   "id": "13a7b40d",
   "metadata": {},
   "source": [
    "### 2. Exploratory Data Analysis:"
   ]
  },
  {
   "cell_type": "code",
   "execution_count": 2,
   "id": "3e189f96",
   "metadata": {},
   "outputs": [
    {
     "data": {
      "text/html": [
       "<div>\n",
       "<style scoped>\n",
       "    .dataframe tbody tr th:only-of-type {\n",
       "        vertical-align: middle;\n",
       "    }\n",
       "\n",
       "    .dataframe tbody tr th {\n",
       "        vertical-align: top;\n",
       "    }\n",
       "\n",
       "    .dataframe thead th {\n",
       "        text-align: right;\n",
       "    }\n",
       "</style>\n",
       "<table border=\"1\" class=\"dataframe\">\n",
       "  <thead>\n",
       "    <tr style=\"text-align: right;\">\n",
       "      <th></th>\n",
       "      <th>label</th>\n",
       "      <th>pixel0</th>\n",
       "      <th>pixel1</th>\n",
       "      <th>pixel2</th>\n",
       "      <th>pixel3</th>\n",
       "      <th>pixel4</th>\n",
       "      <th>pixel5</th>\n",
       "      <th>pixel6</th>\n",
       "      <th>pixel7</th>\n",
       "      <th>pixel8</th>\n",
       "      <th>...</th>\n",
       "      <th>pixel774</th>\n",
       "      <th>pixel775</th>\n",
       "      <th>pixel776</th>\n",
       "      <th>pixel777</th>\n",
       "      <th>pixel778</th>\n",
       "      <th>pixel779</th>\n",
       "      <th>pixel780</th>\n",
       "      <th>pixel781</th>\n",
       "      <th>pixel782</th>\n",
       "      <th>pixel783</th>\n",
       "    </tr>\n",
       "  </thead>\n",
       "  <tbody>\n",
       "    <tr>\n",
       "      <th>0</th>\n",
       "      <td>1</td>\n",
       "      <td>0</td>\n",
       "      <td>0</td>\n",
       "      <td>0</td>\n",
       "      <td>0</td>\n",
       "      <td>0</td>\n",
       "      <td>0</td>\n",
       "      <td>0</td>\n",
       "      <td>0</td>\n",
       "      <td>0</td>\n",
       "      <td>...</td>\n",
       "      <td>0</td>\n",
       "      <td>0</td>\n",
       "      <td>0</td>\n",
       "      <td>0</td>\n",
       "      <td>0</td>\n",
       "      <td>0</td>\n",
       "      <td>0</td>\n",
       "      <td>0</td>\n",
       "      <td>0</td>\n",
       "      <td>0</td>\n",
       "    </tr>\n",
       "    <tr>\n",
       "      <th>1</th>\n",
       "      <td>0</td>\n",
       "      <td>0</td>\n",
       "      <td>0</td>\n",
       "      <td>0</td>\n",
       "      <td>0</td>\n",
       "      <td>0</td>\n",
       "      <td>0</td>\n",
       "      <td>0</td>\n",
       "      <td>0</td>\n",
       "      <td>0</td>\n",
       "      <td>...</td>\n",
       "      <td>0</td>\n",
       "      <td>0</td>\n",
       "      <td>0</td>\n",
       "      <td>0</td>\n",
       "      <td>0</td>\n",
       "      <td>0</td>\n",
       "      <td>0</td>\n",
       "      <td>0</td>\n",
       "      <td>0</td>\n",
       "      <td>0</td>\n",
       "    </tr>\n",
       "    <tr>\n",
       "      <th>2</th>\n",
       "      <td>1</td>\n",
       "      <td>0</td>\n",
       "      <td>0</td>\n",
       "      <td>0</td>\n",
       "      <td>0</td>\n",
       "      <td>0</td>\n",
       "      <td>0</td>\n",
       "      <td>0</td>\n",
       "      <td>0</td>\n",
       "      <td>0</td>\n",
       "      <td>...</td>\n",
       "      <td>0</td>\n",
       "      <td>0</td>\n",
       "      <td>0</td>\n",
       "      <td>0</td>\n",
       "      <td>0</td>\n",
       "      <td>0</td>\n",
       "      <td>0</td>\n",
       "      <td>0</td>\n",
       "      <td>0</td>\n",
       "      <td>0</td>\n",
       "    </tr>\n",
       "    <tr>\n",
       "      <th>3</th>\n",
       "      <td>4</td>\n",
       "      <td>0</td>\n",
       "      <td>0</td>\n",
       "      <td>0</td>\n",
       "      <td>0</td>\n",
       "      <td>0</td>\n",
       "      <td>0</td>\n",
       "      <td>0</td>\n",
       "      <td>0</td>\n",
       "      <td>0</td>\n",
       "      <td>...</td>\n",
       "      <td>0</td>\n",
       "      <td>0</td>\n",
       "      <td>0</td>\n",
       "      <td>0</td>\n",
       "      <td>0</td>\n",
       "      <td>0</td>\n",
       "      <td>0</td>\n",
       "      <td>0</td>\n",
       "      <td>0</td>\n",
       "      <td>0</td>\n",
       "    </tr>\n",
       "    <tr>\n",
       "      <th>4</th>\n",
       "      <td>0</td>\n",
       "      <td>0</td>\n",
       "      <td>0</td>\n",
       "      <td>0</td>\n",
       "      <td>0</td>\n",
       "      <td>0</td>\n",
       "      <td>0</td>\n",
       "      <td>0</td>\n",
       "      <td>0</td>\n",
       "      <td>0</td>\n",
       "      <td>...</td>\n",
       "      <td>0</td>\n",
       "      <td>0</td>\n",
       "      <td>0</td>\n",
       "      <td>0</td>\n",
       "      <td>0</td>\n",
       "      <td>0</td>\n",
       "      <td>0</td>\n",
       "      <td>0</td>\n",
       "      <td>0</td>\n",
       "      <td>0</td>\n",
       "    </tr>\n",
       "  </tbody>\n",
       "</table>\n",
       "<p>5 rows × 785 columns</p>\n",
       "</div>"
      ],
      "text/plain": [
       "   label  pixel0  pixel1  pixel2  pixel3  pixel4  pixel5  pixel6  pixel7  \\\n",
       "0      1       0       0       0       0       0       0       0       0   \n",
       "1      0       0       0       0       0       0       0       0       0   \n",
       "2      1       0       0       0       0       0       0       0       0   \n",
       "3      4       0       0       0       0       0       0       0       0   \n",
       "4      0       0       0       0       0       0       0       0       0   \n",
       "\n",
       "   pixel8  ...  pixel774  pixel775  pixel776  pixel777  pixel778  pixel779  \\\n",
       "0       0  ...         0         0         0         0         0         0   \n",
       "1       0  ...         0         0         0         0         0         0   \n",
       "2       0  ...         0         0         0         0         0         0   \n",
       "3       0  ...         0         0         0         0         0         0   \n",
       "4       0  ...         0         0         0         0         0         0   \n",
       "\n",
       "   pixel780  pixel781  pixel782  pixel783  \n",
       "0         0         0         0         0  \n",
       "1         0         0         0         0  \n",
       "2         0         0         0         0  \n",
       "3         0         0         0         0  \n",
       "4         0         0         0         0  \n",
       "\n",
       "[5 rows x 785 columns]"
      ]
     },
     "execution_count": 2,
     "metadata": {},
     "output_type": "execute_result"
    }
   ],
   "source": [
    "data=pd.read_csv('train.csv')\n",
    "data.head()"
   ]
  },
  {
   "cell_type": "code",
   "execution_count": 3,
   "id": "f712934f",
   "metadata": {},
   "outputs": [],
   "source": [
    "# Function for reshaping 784 pixels into 28x28 matrix\n",
    "def pixel_mat(array):\n",
    "    pixel_mat=array.reshape(28,28)\n",
    "    return pixel_mat"
   ]
  },
  {
   "cell_type": "code",
   "execution_count": 4,
   "id": "6a463c0e",
   "metadata": {},
   "outputs": [
    {
     "data": {
      "image/png": "[encoded data removed]",
      "text/plain": [
       "<Figure size 720x720 with 16 Axes>"
      ]
     },
     "metadata": {
      "needs_background": "light"
     },
     "output_type": "display_data"
    }
   ],
   "source": [
    "# To plot randomly 16 images\n",
    "# to generate a list of 16 rows\n",
    "axs_idx=np.random.choice(data.index,size=16,replace=False)\n",
    "\n",
    "# to plot 4x4 images\n",
    "fig,axs=plt.subplots(nrows=4, ncols=4,figsize=(10,10))\n",
    "\n",
    "i=0;\n",
    "# Reshape 4x4 matrix into vector inorder to make it iterable\n",
    "for ax in axs.reshape(-1):\n",
    "    img=pixel_mat(data.drop('label',axis=1).iloc[axs_idx[i]].values)\n",
    "    ax.set_title('label: %d'%data['label'].iloc[axs_idx[i]])\n",
    "    #imshow is flag that is used in matshow wrapper\n",
    "    ax.imshow(img,cmap=plt.cm.gray, origin='upper',interpolation=\n",
    "              'nearest')\n",
    "    ax.axis('off')\n",
    "    i+=1;\n",
    "# tight layout gives more spacing between subplots\n",
    "plt.tight_layout()\n",
    "# To plot all the previously generated object\n",
    "plt.show()"
   ]
  },
  {
   "cell_type": "code",
   "execution_count": 5,
   "id": "dc05d42f",
   "metadata": {},
   "outputs": [
    {
     "name": "stdout",
     "output_type": "stream",
     "text": [
      "Total Number of data available: 42000\n"
     ]
    }
   ],
   "source": [
    "# Total number of data\n",
    "total_data=len(data)\n",
    "print('Total Number of data available:',total_data)"
   ]
  },
  {
   "cell_type": "code",
   "execution_count": 6,
   "id": "0e8560a7",
   "metadata": {},
   "outputs": [
    {
     "name": "stdout",
     "output_type": "stream",
     "text": [
      "Total unique Label: 10\n"
     ]
    }
   ],
   "source": [
    "# Number of unique class\n",
    "unique_class=data['label'].nunique()\n",
    "print('Total unique Label:',unique_class)"
   ]
  },
  {
   "cell_type": "code",
   "execution_count": 7,
   "id": "34643606",
   "metadata": {},
   "outputs": [
    {
     "data": {
      "text/plain": [
       "array([1, 0, 4, 7, 3, 5, 8, 9, 2, 6], dtype=int64)"
      ]
     },
     "execution_count": 7,
     "metadata": {},
     "output_type": "execute_result"
    }
   ],
   "source": [
    "#Check the different output classes available\n",
    "data['label'].unique()"
   ]
  },
  {
   "cell_type": "code",
   "execution_count": 8,
   "id": "ea778039",
   "metadata": {},
   "outputs": [
    {
     "data": {
      "text/plain": [
       "0    4132\n",
       "1    4684\n",
       "2    4177\n",
       "3    4351\n",
       "4    4072\n",
       "5    3795\n",
       "6    4137\n",
       "7    4401\n",
       "8    4063\n",
       "9    4188\n",
       "Name: label, dtype: int64"
      ]
     },
     "execution_count": 8,
     "metadata": {},
     "output_type": "execute_result"
    }
   ],
   "source": [
    "# To find the frequency of each label\n",
    "data['label'].value_counts().sort_index()"
   ]
  },
  {
   "cell_type": "code",
   "execution_count": 9,
   "id": "98af4d69",
   "metadata": {},
   "outputs": [
    {
     "data": {
      "text/plain": [
       "0    0.098381\n",
       "1    0.111524\n",
       "2    0.099452\n",
       "3    0.103595\n",
       "4    0.096952\n",
       "5    0.090357\n",
       "6    0.098500\n",
       "7    0.104786\n",
       "8    0.096738\n",
       "9    0.099714\n",
       "Name: label, dtype: float64"
      ]
     },
     "execution_count": 9,
     "metadata": {},
     "output_type": "execute_result"
    }
   ],
   "source": [
    "# Frequency distribution for each unique label\n",
    "data['label'].value_counts(normalize=True).sort_index()"
   ]
  },
  {
   "cell_type": "markdown",
   "id": "4354873c",
   "metadata": {},
   "source": [
    "Comment: As total 10 different labels is available and all the labels falling in between 9%-11%. From this data it can be infer that data is balanced."
   ]
  },
  {
   "cell_type": "code",
   "execution_count": 10,
   "id": "e7b168c4",
   "metadata": {},
   "outputs": [
    {
     "name": "stdout",
     "output_type": "stream",
     "text": [
      "Mean: 0.10 and Std Deviation: 0.0056\n"
     ]
    }
   ],
   "source": [
    "# To evaluate the mean and standard deviation of labels.\n",
    "mean=data['label'].value_counts(normalize=True).sort_index().mean()\n",
    "std_dev=data['label'].value_counts(normalize=True).sort_index().std()\n",
    "print('Mean: %0.2f and Std Deviation: %0.4f'%(mean,std_dev))"
   ]
  },
  {
   "cell_type": "code",
   "execution_count": 11,
   "id": "4eee44b7",
   "metadata": {},
   "outputs": [
    {
     "data": {
      "text/plain": [
       "0      pixel0      0\n",
       "       pixel1      0\n",
       "       pixel2      0\n",
       "       pixel3      0\n",
       "       pixel4      0\n",
       "                  ..\n",
       "41999  pixel779    0\n",
       "       pixel780    0\n",
       "       pixel781    0\n",
       "       pixel782    0\n",
       "       pixel783    0\n",
       "Length: 32928000, dtype: int64"
      ]
     },
     "execution_count": 11,
     "metadata": {},
     "output_type": "execute_result"
    }
   ],
   "source": [
    "#To find the general distribution for each pixels by using stack method\n",
    "stacked_data=data.drop('label',axis=1).stack()\n",
    "stacked_data"
   ]
  },
  {
   "cell_type": "code",
   "execution_count": 12,
   "id": "e1217681",
   "metadata": {},
   "outputs": [
    {
     "data": {
      "text/plain": [
       "0      0.808470\n",
       "1      0.000491\n",
       "2      0.000717\n",
       "3      0.000765\n",
       "4      0.000812\n",
       "         ...   \n",
       "251    0.002378\n",
       "252    0.014151\n",
       "253    0.032387\n",
       "254    0.017009\n",
       "255    0.006782\n",
       "Length: 256, dtype: float64"
      ]
     },
     "execution_count": 12,
     "metadata": {},
     "output_type": "execute_result"
    }
   ],
   "source": [
    "# To find the normalize frequency of each different pixel values\n",
    "pd.value_counts(stacked_data,normalize=True).sort_index()"
   ]
  },
  {
   "cell_type": "markdown",
   "id": "3144f0e9",
   "metadata": {},
   "source": [
    "Comment: 80% of pixels contains 0 values. and rest 20% of pixels contain values from 1 to 255."
   ]
  },
  {
   "cell_type": "code",
   "execution_count": 13,
   "id": "b56f1cbb",
   "metadata": {},
   "outputs": [
    {
     "data": {
      "text/plain": [
       "(-0.255, 63.75]    0.843233\n",
       "(63.75, 127.5]     0.024144\n",
       "(127.5, 191.25]    0.026349\n",
       "(191.25, 255.0]    0.106275\n",
       "dtype: float64"
      ]
     },
     "execution_count": 13,
     "metadata": {},
     "output_type": "execute_result"
    }
   ],
   "source": [
    "# Identify the pixel values proportion in different range of values\n",
    "intensity_cut=pd.cut(stacked_data,4)\n",
    "pd.value_counts(intensity_cut,normalize=True).sort_index()"
   ]
  },
  {
   "cell_type": "markdown",
   "id": "47a5f532",
   "metadata": {},
   "source": [
    "#### 3. Feature Engineering"
   ]
  },
  {
   "cell_type": "code",
   "execution_count": 14,
   "id": "c55492e6",
   "metadata": {},
   "outputs": [],
   "source": [
    "# Data Normalization\n",
    "#Convert all the pixels in between 0 to 1 by dividing by 255\n",
    "def feature_norm(numpy_array):\n",
    "    numpy_array=numpy_array/255\n",
    "    return numpy_array"
   ]
  },
  {
   "cell_type": "markdown",
   "id": "efc29880",
   "metadata": {},
   "source": [
    "#### 4. Models Training "
   ]
  },
  {
   "cell_type": "code",
   "execution_count": 15,
   "id": "c8638880",
   "metadata": {},
   "outputs": [],
   "source": [
    "# Here X is feature data and y is label\n",
    "X=data.drop('label',axis=1)\n",
    "y=data['label']"
   ]
  },
  {
   "cell_type": "code",
   "execution_count": 16,
   "id": "305b94f2",
   "metadata": {},
   "outputs": [],
   "source": [
    "# Split the data into training and testing set and maintaining the equal distribution of each label in each fold.\n",
    "sss=StratifiedShuffleSplit(n_splits=1,test_size=0.15, random_state=16)\n",
    "split_idx=sss.split(X,y)"
   ]
  },
  {
   "cell_type": "code",
   "execution_count": 17,
   "id": "2e572960",
   "metadata": {},
   "outputs": [],
   "source": [
    "#Accessing all the index of training and testing of the data\n",
    "train_idx,test_idx=list(split_idx)[0]"
   ]
  },
  {
   "cell_type": "code",
   "execution_count": 18,
   "id": "089eb3d8",
   "metadata": {},
   "outputs": [],
   "source": [
    "# Converting Input and Output features into numpy arrays\n",
    "X_train=np.array(X.iloc[train_idx])\n",
    "y_train=np.array(y.iloc[train_idx])\n",
    "X_test=np.array(X.iloc[test_idx])\n",
    "y_test=np.array(y.iloc[test_idx])"
   ]
  },
  {
   "cell_type": "code",
   "execution_count": 19,
   "id": "b01f7ae9",
   "metadata": {},
   "outputs": [],
   "source": [
    "# Reshaping the X_training and X_test into 28x28\n",
    "d1,d2=X_train.shape  # d1 is number of instances in training set\n",
    "d3,d4=X_test.shape   # d3 is number of instances in test set\n",
    "X_train=X_train.reshape(d1,28,28)\n",
    "X_test=X_test.reshape(d3,28,28)"
   ]
  },
  {
   "cell_type": "code",
   "execution_count": 20,
   "id": "fec944a8",
   "metadata": {},
   "outputs": [],
   "source": [
    "#Normalizing the features\n",
    "X_train=feature_norm(X_train)\n",
    "X_test=feature_norm(X_test)"
   ]
  },
  {
   "cell_type": "markdown",
   "id": "f47de55c",
   "metadata": {},
   "source": [
    "### 4.1 Artificial Neural Network with 1 Hidden Layer \n",
    "        - Number of parameter to be trained: 784x1000+1000x10 =794000=0.79 Million\n",
    "        - Activation function for hidden layer is 'Relu'\n",
    "        - For Activation function for output layer is 'sigmoid'\n",
    "        - Optimizer is 'adam' "
   ]
  },
  {
   "cell_type": "code",
   "execution_count": 21,
   "id": "8510ab8b",
   "metadata": {},
   "outputs": [
    {
     "name": "stdout",
     "output_type": "stream",
     "text": [
      "Epoch 1/10\n",
      "1116/1116 [==============================] - 36s 30ms/step - loss: 0.2246 - accuracy: 0.9339\n",
      "Epoch 2/10\n",
      "1116/1116 [==============================] - 38s 34ms/step - loss: 0.0875 - accuracy: 0.9733\n",
      "Epoch 3/10\n",
      "1116/1116 [==============================] - 35s 32ms/step - loss: 0.0573 - accuracy: 0.9830\n",
      "Epoch 4/10\n",
      "1116/1116 [==============================] - 35s 31ms/step - loss: 0.0362 - accuracy: 0.9885\n",
      "Epoch 5/10\n",
      "1116/1116 [==============================] - 34s 31ms/step - loss: 0.0272 - accuracy: 0.9912\n",
      "Epoch 6/10\n",
      "1116/1116 [==============================] - 46s 41ms/step - loss: 0.0210 - accuracy: 0.9924\n",
      "Epoch 7/10\n",
      "1116/1116 [==============================] - 46s 42ms/step - loss: 0.0156 - accuracy: 0.9950\n",
      "Epoch 8/10\n",
      "1116/1116 [==============================] - 37s 33ms/step - loss: 0.0151 - accuracy: 0.9946\n",
      "Epoch 9/10\n",
      "1116/1116 [==============================] - 35s 32ms/step - loss: 0.0135 - accuracy: 0.9955\n",
      "Epoch 10/10\n",
      "1116/1116 [==============================] - 34s 30ms/step - loss: 0.0128 - accuracy: 0.9954\n"
     ]
    },
    {
     "data": {
      "text/plain": [
       "<keras.callbacks.History at 0x2600057da00>"
      ]
     },
     "execution_count": 21,
     "metadata": {},
     "output_type": "execute_result"
    }
   ],
   "source": [
    "# Artificial Neural Network with 1 Hidden Layer \n",
    "ANN_1=models.Sequential([\n",
    "    layers.Flatten(input_shape=(28,28)),\n",
    "    layers.Dense(1000,activation='relu'),\n",
    "    layers.Dense(10,activation='sigmoid')\n",
    "])\n",
    "\n",
    "ANN_1.compile(optimizer='adam',loss='sparse_categorical_crossentropy',\n",
    "            metrics=['accuracy'])\n",
    "ANN_1.fit(X_train,y_train,epochs=10)"
   ]
  },
  {
   "cell_type": "code",
   "execution_count": 24,
   "id": "9c9dd220",
   "metadata": {},
   "outputs": [
    {
     "name": "stdout",
     "output_type": "stream",
     "text": [
      "197/197 [==============================] - 2s 8ms/step\n",
      "Classification Report:\n",
      "               precision    recall  f1-score   support\n",
      "\n",
      "           0       0.98      0.99      0.98       620\n",
      "           1       0.98      0.99      0.99       703\n",
      "           2       0.98      0.97      0.97       626\n",
      "           3       0.96      0.98      0.97       653\n",
      "           4       0.98      0.97      0.97       611\n",
      "           5       0.96      0.98      0.97       569\n",
      "           6       0.99      0.99      0.99       621\n",
      "           7       0.96      0.98      0.97       660\n",
      "           8       0.97      0.97      0.97       609\n",
      "           9       0.97      0.93      0.95       628\n",
      "\n",
      "    accuracy                           0.97      6300\n",
      "   macro avg       0.97      0.97      0.97      6300\n",
      "weighted avg       0.97      0.97      0.97      6300\n",
      "\n"
     ]
    }
   ],
   "source": [
    "#Generating classification report\n",
    "y_pred_1=ANN_1.predict(X_test)\n",
    "y_pred_1=np.argmax(y_pred_1,1)\n",
    "print('Classification Report:\\n',classification_report(y_test,y_pred_1))"
   ]
  },
  {
   "cell_type": "code",
   "execution_count": 25,
   "id": "e190d90f",
   "metadata": {},
   "outputs": [
    {
     "data": {
      "image/png": "[encoded data removed]",
      "text/plain": [
       "<Figure size 432x288 with 2 Axes>"
      ]
     },
     "metadata": {
      "needs_background": "light"
     },
     "output_type": "display_data"
    }
   ],
   "source": [
    "# Confusion Matrix visualization\n",
    "cm = confusion_matrix(y_test,y_pred_1, labels=[0,1,2,3,4,5,6,7,8,9])\n",
    "disp = ConfusionMatrixDisplay(confusion_matrix=cm,display_labels=[0,1,2,3,4,5,6,7,8,9])\n",
    "disp.plot()\n",
    "plt.show()"
   ]
  },
  {
   "cell_type": "markdown",
   "id": "9dc4d635",
   "metadata": {},
   "source": [
    "Comment: \n",
    "\n",
    "         1. Recall of digit 9 is lowest. Because in some cases 9 is predicted as 0,1,3,4,5,7,8. \n",
    "         2. Digit 0,1 and 6 have highest F-1 Score."
   ]
  },
  {
   "cell_type": "markdown",
   "id": "9ba0589f",
   "metadata": {},
   "source": [
    "### 4.2 Artificial Neural Network with 2 Hideen Layer\n",
    "     - Number of parameter to be trained:(784x1000+1000)+(1000x500+500)+(500x10+10)=1.2 Million\n",
    "     - Activation function for hidden layer is 'Relu'\n",
    "     - Activation function for output layer is 'sigmoid'\n",
    "     - Optimizer is 'adam' "
   ]
  },
  {
   "cell_type": "code",
   "execution_count": 26,
   "id": "b69ab2be",
   "metadata": {},
   "outputs": [
    {
     "name": "stdout",
     "output_type": "stream",
     "text": [
      "Epoch 1/10\n",
      "1116/1116 [==============================] - 61s 54ms/step - loss: 0.2142 - accuracy: 0.9334\n",
      "Epoch 2/10\n",
      "1116/1116 [==============================] - 57s 51ms/step - loss: 0.0910 - accuracy: 0.9715\n",
      "Epoch 3/10\n",
      "1116/1116 [==============================] - 56s 50ms/step - loss: 0.0607 - accuracy: 0.9804\n",
      "Epoch 4/10\n",
      "1116/1116 [==============================] - 61s 55ms/step - loss: 0.0460 - accuracy: 0.9852\n",
      "Epoch 5/10\n",
      "1116/1116 [==============================] - 53s 47ms/step - loss: 0.0354 - accuracy: 0.9878\n",
      "Epoch 6/10\n",
      "1116/1116 [==============================] - 59s 53ms/step - loss: 0.0301 - accuracy: 0.9904\n",
      "Epoch 7/10\n",
      "1116/1116 [==============================] - 56s 50ms/step - loss: 0.0294 - accuracy: 0.9910\n",
      "Epoch 8/10\n",
      "1116/1116 [==============================] - 68s 61ms/step - loss: 0.0234 - accuracy: 0.9932\n",
      "Epoch 9/10\n",
      "1116/1116 [==============================] - 59s 53ms/step - loss: 0.0198 - accuracy: 0.9941\n",
      "Epoch 10/10\n",
      "1116/1116 [==============================] - 59s 52ms/step - loss: 0.0236 - accuracy: 0.9932\n"
     ]
    },
    {
     "data": {
      "text/plain": [
       "<keras.callbacks.History at 0x26016c19c40>"
      ]
     },
     "execution_count": 26,
     "metadata": {},
     "output_type": "execute_result"
    }
   ],
   "source": [
    "# Artificial Neural Network with 2 Hidden Layer \n",
    "ANN_2=models.Sequential([\n",
    "    layers.Flatten(input_shape=(28,28)),\n",
    "    layers.Dense(1000,activation='relu'),\n",
    "    layers.Dense(500,activation='relu'),\n",
    "    layers.Dense(10,activation='sigmoid')\n",
    "])\n",
    "\n",
    "ANN_2.compile(optimizer='adam',loss='sparse_categorical_crossentropy',\n",
    "            metrics=['accuracy'])\n",
    "ANN_2.fit(X_train,y_train,epochs=10)\n"
   ]
  },
  {
   "cell_type": "code",
   "execution_count": 29,
   "id": "02a69656",
   "metadata": {},
   "outputs": [
    {
     "name": "stdout",
     "output_type": "stream",
     "text": [
      "197/197 [==============================] - 2s 10ms/step\n",
      "Classification Report:\n",
      "               precision    recall  f1-score   support\n",
      "\n",
      "           0       0.99      0.98      0.99       620\n",
      "           1       0.99      0.98      0.99       703\n",
      "           2       0.97      0.98      0.98       626\n",
      "           3       0.94      0.98      0.96       653\n",
      "           4       0.98      0.97      0.97       611\n",
      "           5       0.95      0.98      0.96       569\n",
      "           6       0.98      1.00      0.99       621\n",
      "           7       0.96      0.97      0.97       660\n",
      "           8       0.99      0.93      0.96       609\n",
      "           9       0.96      0.93      0.95       628\n",
      "\n",
      "    accuracy                           0.97      6300\n",
      "   macro avg       0.97      0.97      0.97      6300\n",
      "weighted avg       0.97      0.97      0.97      6300\n",
      "\n"
     ]
    }
   ],
   "source": [
    "#Generating classification report\n",
    "y_pred_2=ANN_2.predict(X_test)\n",
    "y_pred_2=np.argmax(y_pred_2,1)\n",
    "print('Classification Report:\\n',classification_report(y_test,y_pred_2))"
   ]
  },
  {
   "cell_type": "code",
   "execution_count": 30,
   "id": "19ab5248",
   "metadata": {},
   "outputs": [
    {
     "data": {
      "image/png": "[encoded data removed]",
      "text/plain": [
       "<Figure size 432x288 with 2 Axes>"
      ]
     },
     "metadata": {
      "needs_background": "light"
     },
     "output_type": "display_data"
    }
   ],
   "source": [
    "# Confusion Matrix visualization\n",
    "cm = confusion_matrix(y_test,y_pred_2, labels=[0,1,2,3,4,5,6,7,8,9])\n",
    "disp = ConfusionMatrixDisplay(confusion_matrix=cm,display_labels=[0,1,2,3,4,5,6,7,8,9])\n",
    "disp.plot()\n",
    "plt.show()"
   ]
  },
  {
   "cell_type": "code",
   "execution_count": null,
   "id": "c1563c01",
   "metadata": {},
   "outputs": [],
   "source": []
  },
  {
   "cell_type": "markdown",
   "id": "e49f0b5e",
   "metadata": {},
   "source": [
    "# 4.3 Artificial Neural Network with 2 Hideen Layer\n",
    "     - Number of parameters:(784x1000+1000)+(1000x500+500)+(500x250+250)+(250x10+10)=1.4 Million\n",
    "     - Activation function for hidden layer is 'Relu'\n",
    "     - Activation function for output layer is 'sigmoid'\n",
    "     - Optimizer is 'adam' "
   ]
  },
  {
   "cell_type": "code",
   "execution_count": 31,
   "id": "ab84f5d1",
   "metadata": {},
   "outputs": [
    {
     "name": "stdout",
     "output_type": "stream",
     "text": [
      "Epoch 1/10\n",
      "1116/1116 [==============================] - 66s 58ms/step - loss: 0.2292 - accuracy: 0.9302\n",
      "Epoch 2/10\n",
      "1116/1116 [==============================] - 70s 63ms/step - loss: 0.1031 - accuracy: 0.9689\n",
      "Epoch 3/10\n",
      "1116/1116 [==============================] - 76s 68ms/step - loss: 0.0730 - accuracy: 0.9762\n",
      "Epoch 4/10\n",
      "1116/1116 [==============================] - 78s 70ms/step - loss: 0.0566 - accuracy: 0.9824\n",
      "Epoch 5/10\n",
      "1116/1116 [==============================] - 75s 67ms/step - loss: 0.0446 - accuracy: 0.9860\n",
      "Epoch 6/10\n",
      "1116/1116 [==============================] - 60s 54ms/step - loss: 0.0383 - accuracy: 0.9883\n",
      "Epoch 7/10\n",
      "1116/1116 [==============================] - 62s 55ms/step - loss: 0.0334 - accuracy: 0.9893\n",
      "Epoch 8/10\n",
      "1116/1116 [==============================] - 63s 56ms/step - loss: 0.0281 - accuracy: 0.9916\n",
      "Epoch 9/10\n",
      "1116/1116 [==============================] - 64s 57ms/step - loss: 0.0240 - accuracy: 0.9929\n",
      "Epoch 10/10\n",
      "1116/1116 [==============================] - 69s 62ms/step - loss: 0.0233 - accuracy: 0.9934\n"
     ]
    },
    {
     "data": {
      "text/plain": [
       "<keras.callbacks.History at 0x26017e5e6d0>"
      ]
     },
     "execution_count": 31,
     "metadata": {},
     "output_type": "execute_result"
    }
   ],
   "source": [
    "# Artificial Neural Network with 3 Hidden Layer \n",
    "ANN_3=models.Sequential([\n",
    "    layers.Flatten(input_shape=(28,28)),\n",
    "    layers.Dense(1000,activation='relu'),\n",
    "    layers.Dense(500,activation='relu'),\n",
    "    layers.Dense(250,activation='relu'),\n",
    "    layers.Dense(10,activation='sigmoid')\n",
    "])\n",
    "ANN_3.compile(optimizer='adam',loss='sparse_categorical_crossentropy',\n",
    "            metrics=['accuracy'])\n",
    "ANN_3.fit(X_train,y_train,epochs=10)"
   ]
  },
  {
   "cell_type": "code",
   "execution_count": 32,
   "id": "7d0b4699",
   "metadata": {},
   "outputs": [
    {
     "name": "stdout",
     "output_type": "stream",
     "text": [
      "197/197 [==============================] - 3s 12ms/step\n",
      "Classification Report:\n",
      "               precision    recall  f1-score   support\n",
      "\n",
      "           0       0.97      0.99      0.98       620\n",
      "           1       0.98      1.00      0.99       703\n",
      "           2       1.00      0.95      0.97       626\n",
      "           3       0.97      0.98      0.98       653\n",
      "           4       0.97      0.97      0.97       611\n",
      "           5       0.99      0.97      0.98       569\n",
      "           6       0.99      0.98      0.98       621\n",
      "           7       0.97      0.98      0.98       660\n",
      "           8       0.94      0.98      0.96       609\n",
      "           9       0.97      0.94      0.95       628\n",
      "\n",
      "    accuracy                           0.97      6300\n",
      "   macro avg       0.97      0.97      0.97      6300\n",
      "weighted avg       0.97      0.97      0.97      6300\n",
      "\n"
     ]
    }
   ],
   "source": [
    "#Generating classification report\n",
    "y_pred_3=ANN_3.predict(X_test)\n",
    "y_pred_3=np.argmax(y_pred_3,1)\n",
    "print('Classification Report:\\n',classification_report(y_test,y_pred_3))"
   ]
  },
  {
   "cell_type": "code",
   "execution_count": 33,
   "id": "4ac2ecc4",
   "metadata": {},
   "outputs": [
    {
     "data": {
      "image/png": "[encoded data removed]",
      "text/plain": [
       "<Figure size 432x288 with 2 Axes>"
      ]
     },
     "metadata": {
      "needs_background": "light"
     },
     "output_type": "display_data"
    }
   ],
   "source": [
    "# Confusion Matrix visualization\n",
    "cm = confusion_matrix(y_test,y_pred_3, labels=[0,1,2,3,4,5,6,7,8,9])\n",
    "disp = ConfusionMatrixDisplay(confusion_matrix=cm,display_labels=[0,1,2,3,4,5,6,7,8,9])\n",
    "disp.plot()\n",
    "plt.show()"
   ]
  },
  {
   "cell_type": "markdown",
   "id": "3f9cb244",
   "metadata": {},
   "source": [
    "# 4.4 CNN with 1 Conv Filter and 1 Max pooling layer\n",
    "     - 3x3 Convolutional Filter (32 Filters) and Max pooling (2x2,stride=1)\n",
    "     - 2 Nos Fully connected layers\n",
    "     - Number of parameters to be trained: 0.3 Million\n",
    "     - Activation function for hidden layer is 'Relu'\n",
    "     - Activation function for output layer is 'softmax'\n",
    "     - Optimizer is 'adam' "
   ]
  },
  {
   "cell_type": "code",
   "execution_count": 34,
   "id": "0802d829",
   "metadata": {},
   "outputs": [
    {
     "name": "stdout",
     "output_type": "stream",
     "text": [
      "Epoch 1/10\n",
      "1116/1116 [==============================] - 19s 15ms/step - loss: 0.2913 - accuracy: 0.9144\n",
      "Epoch 2/10\n",
      "1116/1116 [==============================] - 16s 15ms/step - loss: 0.1015 - accuracy: 0.9694\n",
      "Epoch 3/10\n",
      "1116/1116 [==============================] - 16s 14ms/step - loss: 0.0660 - accuracy: 0.9799\n",
      "Epoch 4/10\n",
      "1116/1116 [==============================] - 16s 14ms/step - loss: 0.0484 - accuracy: 0.9855\n",
      "Epoch 5/10\n",
      "1116/1116 [==============================] - 16s 15ms/step - loss: 0.0361 - accuracy: 0.9887\n",
      "Epoch 6/10\n",
      "1116/1116 [==============================] - 16s 15ms/step - loss: 0.0309 - accuracy: 0.9899\n",
      "Epoch 7/10\n",
      "1116/1116 [==============================] - 16s 14ms/step - loss: 0.0217 - accuracy: 0.9939\n",
      "Epoch 8/10\n",
      "1116/1116 [==============================] - 19s 17ms/step - loss: 0.0189 - accuracy: 0.9946\n",
      "Epoch 9/10\n",
      "1116/1116 [==============================] - 16s 14ms/step - loss: 0.0140 - accuracy: 0.9960\n",
      "Epoch 10/10\n",
      "1116/1116 [==============================] - 16s 15ms/step - loss: 0.0110 - accuracy: 0.9967\n"
     ]
    },
    {
     "data": {
      "text/plain": [
       "<keras.callbacks.History at 0x2602db30820>"
      ]
     },
     "execution_count": 34,
     "metadata": {},
     "output_type": "execute_result"
    }
   ],
   "source": [
    "# Convolutional Neural Network with 1 Convolutional filter and 1 max pooling layer with 2 dense layer\n",
    "CNN_1=models.Sequential([\n",
    "    #Layer 1\n",
    "    layers.Conv2D(filters=8,kernel_size=(3,3),activation='relu',input_shape=(28,28,1)),\n",
    "    layers.MaxPooling2D((2,2)),\n",
    "    #Dense Layer\n",
    "    layers.Flatten(),\n",
    "    layers.Dense(64,activation='relu'),\n",
    "    layers.Dense(10,activation='softmax')  \n",
    "])\n",
    "CNN_1.compile(optimizer='adam',loss='sparse_categorical_crossentropy',\n",
    "            metrics=['accuracy'])\n",
    "CNN_1.fit(X_train,y_train,epochs=10)"
   ]
  },
  {
   "cell_type": "code",
   "execution_count": 35,
   "id": "f591e001",
   "metadata": {},
   "outputs": [
    {
     "name": "stdout",
     "output_type": "stream",
     "text": [
      "197/197 [==============================] - 2s 7ms/step\n",
      "Classification Report:\n",
      "               precision    recall  f1-score   support\n",
      "\n",
      "           0       0.99      1.00      0.99       620\n",
      "           1       0.99      1.00      0.99       703\n",
      "           2       0.96      0.99      0.97       626\n",
      "           3       0.99      0.96      0.97       653\n",
      "           4       0.99      0.93      0.96       611\n",
      "           5       0.98      0.97      0.97       569\n",
      "           6       0.97      1.00      0.99       621\n",
      "           7       0.98      0.97      0.97       660\n",
      "           8       0.99      0.97      0.98       609\n",
      "           9       0.92      0.97      0.94       628\n",
      "\n",
      "    accuracy                           0.97      6300\n",
      "   macro avg       0.97      0.97      0.97      6300\n",
      "weighted avg       0.98      0.97      0.97      6300\n",
      "\n"
     ]
    }
   ],
   "source": [
    "#Generating classification report\n",
    "y_pred_4=CNN_1.predict(X_test)\n",
    "y_pred_4=np.argmax(y_pred_4,1)\n",
    "print('Classification Report:\\n',classification_report(y_test,y_pred_4))"
   ]
  },
  {
   "cell_type": "code",
   "execution_count": 36,
   "id": "7d3f901b",
   "metadata": {},
   "outputs": [
    {
     "data": {
      "image/png": "[encoded data removed]",
      "text/plain": [
       "<Figure size 432x288 with 2 Axes>"
      ]
     },
     "metadata": {
      "needs_background": "light"
     },
     "output_type": "display_data"
    }
   ],
   "source": [
    "# Confusion Matrix visualization\n",
    "cm = confusion_matrix(y_test,y_pred_3, labels=[0,1,2,3,4,5,6,7,8,9])\n",
    "disp = ConfusionMatrixDisplay(confusion_matrix=cm,display_labels=[0,1,2,3,4,5,6,7,8,9])\n",
    "disp.plot()\n",
    "plt.show()"
   ]
  },
  {
   "cell_type": "markdown",
   "id": "9fe43646",
   "metadata": {},
   "source": [
    "# 4.5 CNN with 2 Conv Filter and 2 Max pooling layer\n",
    "     - 3x3 Convolutional Filter (32 Filters) and Max pooling (2x2,stride=1)\n",
    "     - 2 Nos Fully connected layers\n",
    "     - Number of parameters to be trained: 0.4 Million\n",
    "     - Activation function for hidden layer is 'Relu'\n",
    "     - Activation function for output layer is 'softmax'\n",
    "     - Optimizer is 'adam' "
   ]
  },
  {
   "cell_type": "code",
   "execution_count": 40,
   "id": "25f8782b",
   "metadata": {},
   "outputs": [
    {
     "name": "stdout",
     "output_type": "stream",
     "text": [
      "Epoch 1/15\n",
      "1116/1116 [==============================] - 27s 21ms/step - loss: 0.2613 - accuracy: 0.9230\n",
      "Epoch 2/15\n",
      "1116/1116 [==============================] - 22s 20ms/step - loss: 0.0830 - accuracy: 0.9743\n",
      "Epoch 3/15\n",
      "1116/1116 [==============================] - 22s 20ms/step - loss: 0.0608 - accuracy: 0.9804\n",
      "Epoch 4/15\n",
      "1116/1116 [==============================] - 25s 22ms/step - loss: 0.0474 - accuracy: 0.9857\n",
      "Epoch 5/15\n",
      "1116/1116 [==============================] - 23s 20ms/step - loss: 0.0372 - accuracy: 0.9878\n",
      "Epoch 6/15\n",
      "1116/1116 [==============================] - 23s 21ms/step - loss: 0.0313 - accuracy: 0.9899\n",
      "Epoch 7/15\n",
      "1116/1116 [==============================] - 23s 21ms/step - loss: 0.0265 - accuracy: 0.9911\n",
      "Epoch 8/15\n",
      "1116/1116 [==============================] - 23s 21ms/step - loss: 0.0221 - accuracy: 0.9923\n",
      "Epoch 9/15\n",
      "1116/1116 [==============================] - 23s 21ms/step - loss: 0.0170 - accuracy: 0.9944\n",
      "Epoch 10/15\n",
      "1116/1116 [==============================] - 23s 21ms/step - loss: 0.0144 - accuracy: 0.9955\n",
      "Epoch 11/15\n",
      "1116/1116 [==============================] - 24s 22ms/step - loss: 0.0131 - accuracy: 0.9959\n",
      "Epoch 12/15\n",
      "1116/1116 [==============================] - 25s 22ms/step - loss: 0.0107 - accuracy: 0.9968\n",
      "Epoch 13/15\n",
      "1116/1116 [==============================] - 24s 22ms/step - loss: 0.0094 - accuracy: 0.9970\n",
      "Epoch 14/15\n",
      "1116/1116 [==============================] - 24s 21ms/step - loss: 0.0091 - accuracy: 0.9968\n",
      "Epoch 15/15\n",
      "1116/1116 [==============================] - 24s 21ms/step - loss: 0.0077 - accuracy: 0.9975\n"
     ]
    },
    {
     "data": {
      "text/plain": [
       "<keras.callbacks.History at 0x26015fc6280>"
      ]
     },
     "execution_count": 40,
     "metadata": {},
     "output_type": "execute_result"
    }
   ],
   "source": [
    "# Convolutional Neural Network with 2 Convolutional filter and 2 max pooling layer with 2 dense layer\n",
    "CNN_2=models.Sequential([\n",
    "    #Layer 1\n",
    "    layers.Conv2D(filters=8,kernel_size=(3,3),activation='relu',input_shape=(28,28,1)),\n",
    "    layers.MaxPooling2D((2,2)),\n",
    "    #Layer 2\n",
    "    layers.Conv2D(filters=16,kernel_size=(3,3),activation='relu'),\n",
    "    layers.MaxPooling2D((2,2)),\n",
    "    #Dense Layer\n",
    "    layers.Flatten(),\n",
    "    layers.Dense(64,activation='relu'),\n",
    "    layers.Dense(10,activation='softmax')  \n",
    "])\n",
    "\n",
    "CNN_2.compile(optimizer='adam',loss='sparse_categorical_crossentropy',\n",
    "            metrics=['accuracy'])\n",
    "CNN_2.fit(X_train,y_train,epochs=15)"
   ]
  },
  {
   "cell_type": "code",
   "execution_count": 41,
   "id": "43f3bbd6",
   "metadata": {},
   "outputs": [
    {
     "name": "stdout",
     "output_type": "stream",
     "text": [
      "197/197 [==============================] - 2s 9ms/step\n",
      "Classification Report:\n",
      "               precision    recall  f1-score   support\n",
      "\n",
      "           0       0.98      0.99      0.98       620\n",
      "           1       0.98      1.00      0.99       703\n",
      "           2       0.98      0.98      0.98       626\n",
      "           3       0.99      0.99      0.99       653\n",
      "           4       0.98      0.99      0.98       611\n",
      "           5       0.98      0.99      0.98       569\n",
      "           6       0.97      1.00      0.98       621\n",
      "           7       0.98      0.97      0.98       660\n",
      "           8       0.98      0.97      0.98       609\n",
      "           9       0.99      0.95      0.97       628\n",
      "\n",
      "    accuracy                           0.98      6300\n",
      "   macro avg       0.98      0.98      0.98      6300\n",
      "weighted avg       0.98      0.98      0.98      6300\n",
      "\n"
     ]
    }
   ],
   "source": [
    "#Generating classification report\n",
    "y_pred_5=CNN_2.predict(X_test)\n",
    "y_pred_5=np.argmax(y_pred_5,1)\n",
    "print('Classification Report:\\n',classification_report(y_test,y_pred_5))"
   ]
  },
  {
   "cell_type": "code",
   "execution_count": 42,
   "id": "50b3bfc6",
   "metadata": {},
   "outputs": [
    {
     "data": {
      "image/png": "[encoded data removed]",
      "text/plain": [
       "<Figure size 432x288 with 2 Axes>"
      ]
     },
     "metadata": {
      "needs_background": "light"
     },
     "output_type": "display_data"
    }
   ],
   "source": [
    "# Confusion Matrix visualization\n",
    "cm = confusion_matrix(y_test,y_pred_5, labels=[0,1,2,3,4,5,6,7,8,9])\n",
    "disp = ConfusionMatrixDisplay(confusion_matrix=cm,display_labels=[0,1,2,3,4,5,6,7,8,9])\n",
    "disp.plot()\n",
    "plt.show()"
   ]
  },
  {
   "cell_type": "code",
   "execution_count": 46,
   "id": "30fa5146",
   "metadata": {},
   "outputs": [],
   "source": [
    "# Exporting all the models.\n",
    "ANN_1.save('models\\ANN_1.h5')\n",
    "ANN_2.save('models\\ANN_2.h5')\n",
    "ANN_3.save('models\\ANN_3.h5')\n",
    "CNN_1.save('models\\CNN_1.h5')\n",
    "ANN_2.save('models\\CNN_2.h5')\n"
   ]
  },
  {
   "cell_type": "markdown",
   "id": "829f3554",
   "metadata": {},
   "source": [
    "### Conclusion:\n",
    "     1. Convolutional Neural Network is giving comparatively good result.\n",
    "     2. Convolutional Neural Network takes less parameter than the Artificial Neural Network.\n",
    "     3. Highest accuracy on test set is 98% for CNN_2 Model. 97% for rest of the models.\n",
    "                 \n",
    "    "
   ]
  }
 ],
 "metadata": {
  "kernelspec": {
   "display_name": "Python 3 (ipykernel)",
   "language": "python",
   "name": "python3"
  },
  "language_info": {
   "codemirror_mode": {
    "name": "ipython",
    "version": 3
   },
   "file_extension": ".py",
   "mimetype": "text/x-python",
   "name": "python",
   "nbconvert_exporter": "python",
   "pygments_lexer": "ipython3",
   "version": "3.9.12"
  }
 },
 "nbformat": 4,
 "nbformat_minor": 5
}
